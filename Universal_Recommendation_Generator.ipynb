{
  "nbformat": 4,
  "nbformat_minor": 0,
  "metadata": {
    "colab": {
      "provenance": []
    },
    "kernelspec": {
      "name": "python3",
      "display_name": "Python 3"
    },
    "language_info": {
      "name": "python"
    }
  },
  "cells": [
    {
      "cell_type": "code",
      "execution_count": 36,
      "metadata": {
        "id": "M1J-NlUsB85t"
      },
      "outputs": [],
      "source": [
        "import pandas as pd\n",
        "import pickle\n",
        "import numpy as np\n",
        "import random\n",
        "import torch\n",
        "import torch.nn as nn\n",
        "import torch.nn.functional as F\n",
        "import os\n",
        "from torch.utils.data import DataLoader, Dataset\n",
        "import tqdm\n",
        "import torch.optim as optim\n",
        "from itertools import islice\n",
        "import math"
      ]
    },
    {
      "cell_type": "code",
      "source": [
        "## Accessing KG Node map dict\n",
        "with open(r'/content/drive/MyDrive/Shopping POIs Final Data/Tucson City Data/Tucson City Data/tucson_KG_node_map_dict','rb')as f:\n",
        "  KG_node_map_dict = pickle.load(f)"
      ],
      "metadata": {
        "id": "ePLnw_URCB2I"
      },
      "execution_count": 37,
      "outputs": []
    },
    {
      "cell_type": "code",
      "source": [
        "## Accessing Trained Secondary Model\n",
        "\n",
        "# Define the model architecture\n",
        "class CFNet(nn.Module):\n",
        "    def __init__(self, num_users, num_items, embedding_dim):\n",
        "        super(CFNet, self).__init__()\n",
        "        self.user_embeddings = nn.Embedding(num_users, embedding_dim, _weight=user_embeddings)\n",
        "        self.item_embeddings = nn.Embedding(num_items, embedding_dim, _weight=item_embeddings)\n",
        "        self.fc1 = nn.Linear(embedding_dim * 2, 64)\n",
        "        self.fc2 = nn.Linear(64, 1)\n",
        "\n",
        "    def forward(self, user_ids, item_ids):\n",
        "        user_embeds = self.user_embeddings(user_ids)\n",
        "        item_embeds = self.item_embeddings(item_ids)\n",
        "        x = torch.cat([user_embeds, item_embeds], dim=1)\n",
        "        x = nn.functional.relu(self.fc1(x))\n",
        "        x = self.fc2(x)\n",
        "        return x\n",
        "\n",
        "with open(r'/content/drive/MyDrive/Shopping POIs Final Data/Tucson City Data/Tucson City Data/secondary_model_tucson', 'rb') as handle:\n",
        "    secondary_model = pickle.load(handle)"
      ],
      "metadata": {
        "id": "19zqbyKqCGsq"
      },
      "execution_count": 38,
      "outputs": []
    },
    {
      "cell_type": "code",
      "source": [
        "## Accessing KG to secondary model map of users\n",
        "with open(r'/content/drive/MyDrive/Shopping POIs Final Data/Tucson City Data/Tucson City Data/user_kg_index_secondary_id_map_tucson','rb') as f:\n",
        "  user_kg_index_secondary_id_map = pickle.load(f)\n",
        "\n",
        "## Accessing KG to secondary model map of items\n",
        "with open(r'/content/drive/MyDrive/Shopping POIs Final Data/Tucson City Data/Tucson City Data/item_kg_index_secondary_id_map_tucson','rb') as f:\n",
        "  item_kg_index_secondary_id_map = pickle.load(f)"
      ],
      "metadata": {
        "id": "KJkx2JJfCN5N"
      },
      "execution_count": 39,
      "outputs": []
    },
    {
      "cell_type": "code",
      "source": [
        "## Function to get test POIs for a group\n",
        "def get_test_poi_for_group(group):\n",
        "  test_poi_group = []\n",
        "  for user in group:\n",
        "    for poi in userwise_test_poi[user]:\n",
        "      test_poi_group.append(poi)\n",
        "\n",
        "  return list(set(test_poi_group))"
      ],
      "metadata": {
        "id": "yXUUz6GSCPtK"
      },
      "execution_count": 40,
      "outputs": []
    },
    {
      "cell_type": "code",
      "source": [
        "# Accessing heldout POIs for users\n",
        "file = open(r'/content/drive/MyDrive/Shopping POIs Final Data/Tucson City Data/Tucson City Data/UP_dict_test', \"rb\")\n",
        "UP_dict_test = pickle.load(file)"
      ],
      "metadata": {
        "id": "XwXwkbLACRN9"
      },
      "execution_count": 41,
      "outputs": []
    },
    {
      "cell_type": "code",
      "source": [
        "# Accessing user groups\n",
        "file = open(r'/content/drive/MyDrive/Shopping POIs Final Data/Tucson City Data/Tucson City Data/tucson_group_8', \"rb\")\n",
        "user_group = pickle.load(file)"
      ],
      "metadata": {
        "id": "m0UMCj7dCTYx"
      },
      "execution_count": 42,
      "outputs": []
    },
    {
      "cell_type": "code",
      "source": [
        "## Creating userwise test POI dictonary\n",
        "userwise_test_poi = {}\n",
        "for user in UP_dict_test:\n",
        "  userwise_test_poi[user] = []\n",
        "  for record in UP_dict_test[user]:\n",
        "    userwise_test_poi[user].append(record[0])"
      ],
      "metadata": {
        "id": "fVKqYTKhCnSl"
      },
      "execution_count": 43,
      "outputs": []
    },
    {
      "cell_type": "code",
      "source": [
        "## Accessing Group Embeddings\n",
        "with open(r'/content/drive/MyDrive/Shopping POIs Final Data/Tucson City Data/Tucson City Data/group8_embeddings_tucson','rb')as f:\n",
        "  group_embeddings = pickle.load(f)"
      ],
      "metadata": {
        "id": "jk-INLuyCo1q"
      },
      "execution_count": 44,
      "outputs": []
    },
    {
      "cell_type": "code",
      "source": [
        "Visit_metadata = pd.read_csv(r'/content/drive/MyDrive/Shopping POIs Final Data/Tucson City Data/Tucson City Data/tucson_reviews.csv')"
      ],
      "metadata": {
        "id": "TqMt9oslCqbT"
      },
      "execution_count": 45,
      "outputs": []
    },
    {
      "cell_type": "code",
      "source": [
        "## Creating userwise visited POI rating dictonary\n",
        "UP_dict = {}\n",
        "for i in range(len(Visit_metadata)):\n",
        "  user = Visit_metadata.iloc[i,1]\n",
        "  if user not in UP_dict:\n",
        "    UP_dict[user] = []\n",
        "  poi = Visit_metadata.iloc[i,2]\n",
        "  rating = Visit_metadata.iloc[i,3]\n",
        "  UP_dict[user].append([poi,rating])"
      ],
      "metadata": {
        "id": "3jteWInQCsjM"
      },
      "execution_count": 46,
      "outputs": []
    },
    {
      "cell_type": "code",
      "source": [
        "poi_metadata = pd.read_csv(r'/content/drive/MyDrive/Shopping POIs Final Data/Tucson City Data/Tucson City Data/tucson_poi_metadata.csv')"
      ],
      "metadata": {
        "id": "NZC6Kf64Cu9e"
      },
      "execution_count": 47,
      "outputs": []
    },
    {
      "cell_type": "code",
      "source": [
        "## Function to get test POIs for a group\n",
        "def get_test_poi_for_group(group):\n",
        "  test_poi_group = []\n",
        "  for user in group:\n",
        "    for poi in userwise_test_poi[user]:\n",
        "      test_poi_group.append(poi)\n",
        "\n",
        "  return list(set(test_poi_group))"
      ],
      "metadata": {
        "id": "qY35dWUtCwv1"
      },
      "execution_count": 48,
      "outputs": []
    },
    {
      "cell_type": "code",
      "source": [
        "## Function to get top K POI recommendation for group\n",
        "def get_grp_recommendations(group_idx, candidate_grp_pois,K):\n",
        "    group_embedding = group_embeddings[group_idx]\n",
        "    # group_embedding = H1_grp_embedding\n",
        "    predicted_ratings = []\n",
        "    for poi in candidate_grp_pois:\n",
        "        if poi in KG_node_map_dict and KG_node_map_dict[poi] in item_kg_index_secondary_id_map:\n",
        "            item_id = item_kg_index_secondary_id_map[KG_node_map_dict[poi]]\n",
        "            item_tensor = torch.LongTensor([item_id])\n",
        "            item_embed = secondary_model.item_embeddings(item_tensor)[0]\n",
        "            x = torch.cat([group_embedding, item_embed], dim=0)\n",
        "            x = nn.functional.relu(secondary_model.fc1(x))\n",
        "            x = secondary_model.fc2(x)\n",
        "            predicted_ratings.append(float(x))\n",
        "    pairs = list(zip(predicted_ratings, candidate_grp_pois))\n",
        "    sorted_pairs = sorted(pairs, reverse=True)\n",
        "    top_items = [pair[1] for pair in sorted_pairs[:K]]\n",
        "    return top_items"
      ],
      "metadata": {
        "id": "ngcjsqCWC0ff"
      },
      "execution_count": 49,
      "outputs": []
    },
    {
      "cell_type": "code",
      "source": [
        "recommenadtions_15_group_size_8 = {}\n",
        "for i in range(len(user_group)):\n",
        "  candidate_pois = get_test_poi_for_group(user_group[i])\n",
        "  recommenadtions_15_group_size_8[i] = get_grp_recommendations(i,candidate_pois,15)\n"
      ],
      "metadata": {
        "id": "Jz-BnnjwC3pX"
      },
      "execution_count": 50,
      "outputs": []
    },
    {
      "cell_type": "code",
      "source": [
        "# Save using pickle\n",
        "with open(\"/content/recommenadtions_15_group_size_8.pkl\", \"wb\") as f:\n",
        "    pickle.dump(recommenadtions_15_group_size_8, f)"
      ],
      "metadata": {
        "id": "8BnGFkLDC-eG"
      },
      "execution_count": 51,
      "outputs": []
    },
    {
      "cell_type": "code",
      "source": [
        "import os\n",
        "\n",
        "file_path = '/content/Dominant_Categories.pkl'\n",
        "print(f\"File size: {os.path.getsize(file_path)} bytes\")\n"
      ],
      "metadata": {
        "colab": {
          "base_uri": "https://localhost:8080/"
        },
        "id": "OWUnI0-iDJmX",
        "outputId": "8c694b91-ef74-44c9-8fd4-b6215f979e29"
      },
      "execution_count": 52,
      "outputs": [
        {
          "output_type": "stream",
          "name": "stdout",
          "text": [
            "File size: 1152 bytes\n"
          ]
        }
      ]
    },
    {
      "cell_type": "code",
      "source": [
        "import pickle\n",
        "\n",
        "# Load the pickle file\n",
        "file_path = '/content/Dominant_Categories.pkl'\n",
        "\n",
        "with open(file_path, 'rb') as file:\n",
        "    Dominant_Categories = pickle.load(file)\n"
      ],
      "metadata": {
        "id": "y8fTYsN-DVOW"
      },
      "execution_count": 53,
      "outputs": []
    },
    {
      "cell_type": "code",
      "source": [
        "def get_filtered_categories_from_pois(poi_list, dominant_categories):\n",
        "    # Normalize dominant categories\n",
        "    dominant_set = set(cat.strip().lower() for cat in dominant_categories)\n",
        "    poi_category_dict = {}\n",
        "\n",
        "    for poi in poi_list:\n",
        "        categories_str = poi_metadata.loc[poi_metadata['business_id'] == poi, 'categories']\n",
        "        if not categories_str.empty:\n",
        "            categories = [cat.strip() for cat in categories_str.iloc[0].split(',')]\n",
        "            # Filter and normalize\n",
        "            filtered = [cat for cat in categories if cat.strip().lower() in dominant_set]\n",
        "            poi_category_dict[poi] = filtered\n",
        "\n",
        "    return poi_category_dict\n"
      ],
      "metadata": {
        "id": "F7y80cpMD5UG"
      },
      "execution_count": 54,
      "outputs": []
    },
    {
      "cell_type": "code",
      "source": [
        "with open(\"/content/recommenadtions_15_group_size_8.pkl\", \"rb\") as f:\n",
        "    recommenadtions_15_group_size_8 = pickle.load(f)\n"
      ],
      "metadata": {
        "id": "9lV2ShbOD-lI"
      },
      "execution_count": 55,
      "outputs": []
    },
    {
      "cell_type": "code",
      "source": [
        "dominant_categories_list_reco_grop_size_8_reco_15 = {}"
      ],
      "metadata": {
        "id": "y3klkqZXEGlh"
      },
      "execution_count": 56,
      "outputs": []
    },
    {
      "cell_type": "code",
      "source": [
        "for i in range(len(recommenadtions_15_group_size_8)):\n",
        "  reco = recommenadtions_15_group_size_8[i]\n",
        "  dominant_categories_list_reco_grop_size_8_reco_15[i] = get_filtered_categories_from_pois(reco,Dominant_Categories)"
      ],
      "metadata": {
        "id": "uKaGWxKCEVmr"
      },
      "execution_count": 57,
      "outputs": []
    },
    {
      "cell_type": "code",
      "source": [
        "print(len(dominant_categories_list_reco_grop_size_8_reco_15[14]))"
      ],
      "metadata": {
        "colab": {
          "base_uri": "https://localhost:8080/"
        },
        "id": "741Pyz9DEbms",
        "outputId": "e8329099-72d3-4817-ac2c-7834e375f79f"
      },
      "execution_count": 58,
      "outputs": [
        {
          "output_type": "stream",
          "name": "stdout",
          "text": [
            "9\n"
          ]
        }
      ]
    },
    {
      "cell_type": "code",
      "source": [
        "# Save using pickle\n",
        "with open(\"/content/dominant_categories_list_reco_grop_size_8_reco_15\", \"wb\") as f:\n",
        "    pickle.dump(dominant_categories_list_reco_grop_size_8_reco_15, f)"
      ],
      "metadata": {
        "id": "iQlMYC_5EllT"
      },
      "execution_count": 59,
      "outputs": []
    },
    {
      "cell_type": "code",
      "source": [],
      "metadata": {
        "id": "fkDEj_bLE2Fs"
      },
      "execution_count": null,
      "outputs": []
    }
  ]
}